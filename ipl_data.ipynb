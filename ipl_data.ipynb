{
  "nbformat": 4,
  "nbformat_minor": 0,
  "metadata": {
    "colab": {
      "provenance": [],
      "authorship_tag": "ABX9TyMCjGI5Q8crhRAGO3IM9EKh",
      "include_colab_link": true
    },
    "kernelspec": {
      "name": "python3",
      "display_name": "Python 3"
    },
    "language_info": {
      "name": "python"
    }
  },
  "cells": [
    {
      "cell_type": "markdown",
      "metadata": {
        "id": "view-in-github",
        "colab_type": "text"
      },
      "source": [
        "<a href=\"https://colab.research.google.com/github/bhavani772/ipl-analysis/blob/main/ipl_data.ipynb\" target=\"_parent\"><img src=\"https://colab.research.google.com/assets/colab-badge.svg\" alt=\"Open In Colab\"/></a>"
      ]
    },
    {
      "cell_type": "code",
      "execution_count": null,
      "metadata": {
        "id": "qxX101Rr94K4",
        "colab": {
          "base_uri": "https://localhost:8080/"
        },
        "outputId": "c75b4f3c-d582-4b7e-b576-7a339a43807c"
      },
      "outputs": [
        {
          "output_type": "stream",
          "name": "stdout",
          "text": [
            "(1095, 20)\n",
            "       id   season        city        date match_type player_of_match  \\\n",
            "0  335982  2007/08   Bangalore  2008-04-18     League     BB McCullum   \n",
            "1  335983  2007/08  Chandigarh  2008-04-19     League      MEK Hussey   \n",
            "2  335984  2007/08       Delhi  2008-04-19     League     MF Maharoof   \n",
            "3  335985  2007/08      Mumbai  2008-04-20     League      MV Boucher   \n",
            "4  335986  2007/08     Kolkata  2008-04-20     League       DJ Hussey   \n",
            "\n",
            "                                        venue                        team1  \\\n",
            "0                       M Chinnaswamy Stadium  Royal Challengers Bangalore   \n",
            "1  Punjab Cricket Association Stadium, Mohali              Kings XI Punjab   \n",
            "2                            Feroz Shah Kotla             Delhi Daredevils   \n",
            "3                            Wankhede Stadium               Mumbai Indians   \n",
            "4                                Eden Gardens        Kolkata Knight Riders   \n",
            "\n",
            "                         team2                  toss_winner toss_decision  \\\n",
            "0        Kolkata Knight Riders  Royal Challengers Bangalore         field   \n",
            "1          Chennai Super Kings          Chennai Super Kings           bat   \n",
            "2             Rajasthan Royals             Rajasthan Royals           bat   \n",
            "3  Royal Challengers Bangalore               Mumbai Indians           bat   \n",
            "4              Deccan Chargers              Deccan Chargers           bat   \n",
            "\n",
            "                        winner   result  result_margin  target_runs  \\\n",
            "0        Kolkata Knight Riders     runs          140.0        223.0   \n",
            "1          Chennai Super Kings     runs           33.0        241.0   \n",
            "2             Delhi Daredevils  wickets            9.0        130.0   \n",
            "3  Royal Challengers Bangalore  wickets            5.0        166.0   \n",
            "4        Kolkata Knight Riders  wickets            5.0        111.0   \n",
            "\n",
            "   target_overs super_over method    umpire1         umpire2  \n",
            "0          20.0          N    NaN  Asad Rauf     RE Koertzen  \n",
            "1          20.0          N    NaN  MR Benson      SL Shastri  \n",
            "2          20.0          N    NaN  Aleem Dar  GA Pratapkumar  \n",
            "3          20.0          N    NaN   SJ Davis       DJ Harper  \n",
            "4          20.0          N    NaN  BF Bowden     K Hariharan  \n",
            "player_of_match\n",
            "AB de Villiers    25\n",
            "CH Gayle          22\n",
            "RG Sharma         19\n",
            "V Kohli           18\n",
            "DA Warner         18\n",
            "                  ..\n",
            "R Shepherd         1\n",
            "Akash Madhwal      1\n",
            "Shashank Singh     1\n",
            "WD Parnell         1\n",
            "RR Rossouw         1\n",
            "Name: count, Length: 291, dtype: int64\n",
            "player_of_match\n",
            "AB de Villiers    25\n",
            "CH Gayle          22\n",
            "RG Sharma         19\n",
            "V Kohli           18\n",
            "DA Warner         18\n",
            "MS Dhoni          17\n",
            "YK Pathan         16\n",
            "RA Jadeja         16\n",
            "SR Watson         16\n",
            "AD Russell        15\n",
            "Name: count, dtype: int64\n"
          ]
        }
      ],
      "source": [
        "import pandas as pd\n",
        "import seaborn as sns\n",
        "from matplotlib import pyplot as plt\n",
        "ipl=pd.read_csv('matches.csv')\n",
        "print(ipl.shape)\n",
        "print(ipl.head())\n",
        "print(ipl['player_of_match'].value_counts())\n",
        "print(ipl['player_of_match'].value_counts()[0:10])"
      ]
    },
    {
      "cell_type": "code",
      "source": [
        "plt.figure(figsize=(20,5))\n",
        "plt.bar(list(ipl['player_of_match'].value_counts()[0:10].keys()),list(ipl['player_of_match'].value_counts()[0:10]),color=\"blue\")"
      ],
      "metadata": {
        "colab": {
          "base_uri": "https://localhost:8080/",
          "height": 264
        },
        "id": "8--GJVHFBjkQ",
        "outputId": "f6a0da63-1628-4de2-d34f-318ae75239e1"
      },
      "execution_count": null,
      "outputs": [
        {
          "output_type": "execute_result",
          "data": {
            "text/plain": [
              "<BarContainer object of 10 artists>"
            ]
          },
          "metadata": {},
          "execution_count": 43
        },
        {
          "output_type": "display_data",
          "data": {
            "text/plain": [
              "<Figure size 2000x500 with 1 Axes>"
            ],
            "image/png": "[encoded data removed]"
          },
          "metadata": {}
        }
      ]
    },
    {
      "cell_type": "code",
      "source": [
        "print(ipl['result'].value_counts()[0:1095])"
      ],
      "metadata": {
        "colab": {
          "base_uri": "https://localhost:8080/"
        },
        "id": "BGAhpJLRDJny",
        "outputId": "0f9a39f1-2b83-4b67-e9e2-35b7773ded5a"
      },
      "execution_count": null,
      "outputs": [
        {
          "output_type": "stream",
          "name": "stdout",
          "text": [
            "result\n",
            "wickets      578\n",
            "runs         498\n",
            "tie           14\n",
            "no result      5\n",
            "Name: count, dtype: int64\n"
          ]
        }
      ]
    },
    {
      "cell_type": "code",
      "source": [
        "print(ipl['venue'].value_counts()[0:1095])"
      ],
      "metadata": {
        "colab": {
          "base_uri": "https://localhost:8080/"
        },
        "id": "g0KrYrKVDajH",
        "outputId": "2d30df71-ad42-41d2-a3af-915f6e20fe34"
      },
      "execution_count": null,
      "outputs": [
        {
          "output_type": "stream",
          "name": "stdout",
          "text": [
            "venue\n",
            "Eden Gardens                                                             77\n",
            "Wankhede Stadium                                                         73\n",
            "M Chinnaswamy Stadium                                                    65\n",
            "Feroz Shah Kotla                                                         60\n",
            "Rajiv Gandhi International Stadium, Uppal                                49\n",
            "MA Chidambaram Stadium, Chepauk                                          48\n",
            "Sawai Mansingh Stadium                                                   47\n",
            "Dubai International Cricket Stadium                                      46\n",
            "Wankhede Stadium, Mumbai                                                 45\n",
            "Punjab Cricket Association Stadium, Mohali                               35\n",
            "Sheikh Zayed Stadium                                                     29\n",
            "Sharjah Cricket Stadium                                                  28\n",
            "MA Chidambaram Stadium, Chepauk, Chennai                                 28\n",
            "Narendra Modi Stadium, Ahmedabad                                         24\n",
            "Maharashtra Cricket Association Stadium                                  22\n",
            "Dr DY Patil Sports Academy, Mumbai                                       20\n",
            "Dr DY Patil Sports Academy                                               17\n",
            "Brabourne Stadium, Mumbai                                                17\n",
            "Subrata Roy Sahara Stadium                                               16\n",
            "Eden Gardens, Kolkata                                                    16\n",
            "Arun Jaitley Stadium, Delhi                                              16\n",
            "Kingsmead                                                                15\n",
            "M.Chinnaswamy Stadium                                                    15\n",
            "Rajiv Gandhi International Stadium                                       15\n",
            "Arun Jaitley Stadium                                                     14\n",
            "Bharat Ratna Shri Atal Bihari Vajpayee Ekana Cricket Stadium, Lucknow    14\n",
            "M Chinnaswamy Stadium, Bengaluru                                         14\n",
            "Rajiv Gandhi International Stadium, Uppal, Hyderabad                     13\n",
            "Dr. Y.S. Rajasekhara Reddy ACA-VDCA Cricket Stadium                      13\n",
            "Maharashtra Cricket Association Stadium, Pune                            13\n",
            "SuperSport Park                                                          12\n",
            "Sardar Patel Stadium, Motera                                             12\n",
            "Punjab Cricket Association IS Bindra Stadium, Mohali                     11\n",
            "Sawai Mansingh Stadium, Jaipur                                           10\n",
            "Punjab Cricket Association IS Bindra Stadium                             10\n",
            "Saurashtra Cricket Association Stadium                                   10\n",
            "Brabourne Stadium                                                        10\n",
            "Himachal Pradesh Cricket Association Stadium                              9\n",
            "MA Chidambaram Stadium                                                    9\n",
            "Holkar Cricket Stadium                                                    9\n",
            "New Wanderers Stadium                                                     8\n",
            "Zayed Cricket Stadium, Abu Dhabi                                          8\n",
            "JSCA International Stadium Complex                                        7\n",
            "St George's Park                                                          7\n",
            "Barabati Stadium                                                          7\n",
            "Newlands                                                                  7\n",
            "Shaheed Veer Narayan Singh International Stadium                          6\n",
            "Nehru Stadium                                                             5\n",
            "Maharaja Yadavindra Singh International Cricket Stadium, Mullanpur        5\n",
            "Punjab Cricket Association IS Bindra Stadium, Mohali, Chandigarh          5\n",
            "Green Park                                                                4\n",
            "Himachal Pradesh Cricket Association Stadium, Dharamsala                  4\n",
            "De Beers Diamond Oval                                                     3\n",
            "Buffalo Park                                                              3\n",
            "Barsapara Cricket Stadium, Guwahati                                       3\n",
            "Vidarbha Cricket Association Stadium, Jamtha                              3\n",
            "OUTsurance Oval                                                           2\n",
            "Dr. Y.S. Rajasekhara Reddy ACA-VDCA Cricket Stadium, Visakhapatnam        2\n",
            "Name: count, dtype: int64\n"
          ]
        }
      ]
    },
    {
      "cell_type": "code",
      "source": [
        "print(ipl['toss_winner'].value_counts()[0:1095])"
      ],
      "metadata": {
        "colab": {
          "base_uri": "https://localhost:8080/"
        },
        "id": "LfDO9otHDvng",
        "outputId": "5b95756e-6500-4156-fea3-8f5dd3878629"
      },
      "execution_count": null,
      "outputs": [
        {
          "output_type": "stream",
          "name": "stdout",
          "text": [
            "toss_winner\n",
            "Mumbai Indians                 143\n",
            "Kolkata Knight Riders          122\n",
            "Chennai Super Kings            122\n",
            "Rajasthan Royals               120\n",
            "Royal Challengers Bangalore    113\n",
            "Sunrisers Hyderabad             88\n",
            "Kings XI Punjab                 85\n",
            "Delhi Daredevils                80\n",
            "Delhi Capitals                  50\n",
            "Deccan Chargers                 43\n",
            "Punjab Kings                    24\n",
            "Gujarat Titans                  22\n",
            "Pune Warriors                   20\n",
            "Lucknow Super Giants            19\n",
            "Gujarat Lions                   15\n",
            "Kochi Tuskers Kerala             8\n",
            "Royal Challengers Bengaluru      8\n",
            "Rising Pune Supergiants          7\n",
            "Rising Pune Supergiant           6\n",
            "Name: count, dtype: int64\n"
          ]
        }
      ]
    },
    {
      "cell_type": "code",
      "source": [
        "batting_first=ipl[ipl['result']==\"runs\"]\n",
        "print(batting_first.head())"
      ],
      "metadata": {
        "colab": {
          "base_uri": "https://localhost:8080/"
        },
        "id": "aCBX6kK9Erb9",
        "outputId": "679c127e-d99b-40ad-d7a5-32ca6b419423"
      },
      "execution_count": null,
      "outputs": [
        {
          "output_type": "stream",
          "name": "stdout",
          "text": [
            "        id   season        city        date match_type player_of_match  \\\n",
            "0   335982  2007/08   Bangalore  2008-04-18     League     BB McCullum   \n",
            "1   335983  2007/08  Chandigarh  2008-04-19     League      MEK Hussey   \n",
            "7   335989  2007/08     Chennai  2008-04-23     League       ML Hayden   \n",
            "9   335991  2007/08  Chandigarh  2008-04-25     League   KC Sangakkara   \n",
            "14  335996  2007/08   Bangalore  2008-04-28     League        MS Dhoni   \n",
            "\n",
            "                                         venue                        team1  \\\n",
            "0                        M Chinnaswamy Stadium  Royal Challengers Bangalore   \n",
            "1   Punjab Cricket Association Stadium, Mohali              Kings XI Punjab   \n",
            "7              MA Chidambaram Stadium, Chepauk          Chennai Super Kings   \n",
            "9   Punjab Cricket Association Stadium, Mohali              Kings XI Punjab   \n",
            "14                       M Chinnaswamy Stadium  Royal Challengers Bangalore   \n",
            "\n",
            "                    team2                  toss_winner toss_decision  \\\n",
            "0   Kolkata Knight Riders  Royal Challengers Bangalore         field   \n",
            "1     Chennai Super Kings          Chennai Super Kings           bat   \n",
            "7          Mumbai Indians               Mumbai Indians         field   \n",
            "9          Mumbai Indians               Mumbai Indians         field   \n",
            "14    Chennai Super Kings          Chennai Super Kings           bat   \n",
            "\n",
            "                   winner result  result_margin  target_runs  target_overs  \\\n",
            "0   Kolkata Knight Riders   runs          140.0        223.0          20.0   \n",
            "1     Chennai Super Kings   runs           33.0        241.0          20.0   \n",
            "7     Chennai Super Kings   runs            6.0        209.0          20.0   \n",
            "9         Kings XI Punjab   runs           66.0        183.0          20.0   \n",
            "14    Chennai Super Kings   runs           13.0        179.0          20.0   \n",
            "\n",
            "   super_over method      umpire1         umpire2  \n",
            "0           N    NaN    Asad Rauf     RE Koertzen  \n",
            "1           N    NaN    MR Benson      SL Shastri  \n",
            "7           N    NaN    DJ Harper  GA Pratapkumar  \n",
            "9           N    NaN    Aleem Dar       AM Saheba  \n",
            "14          N    NaN  BR Doctrove       RB Tiffin  \n"
          ]
        }
      ]
    },
    {
      "cell_type": "code",
      "source": [
        "plt.figure(figsize=(8,5))\n",
        "plt.hist(batting_first['result_margin'])\n",
        "plt.title(\"distribution of runs\")\n",
        "plt.xlabel(\"runs\")\n",
        "plt.ylabel(\"frequency\")\n",
        "plt.show()"
      ],
      "metadata": {
        "colab": {
          "base_uri": "https://localhost:8080/",
          "height": 487
        },
        "id": "y4N8om-AFpKc",
        "outputId": "0405cbdb-a0ea-462a-b52f-3f3db167d72d"
      },
      "execution_count": null,
      "outputs": [
        {
          "output_type": "display_data",
          "data": {
            "text/plain": [
              "<Figure size 800x500 with 1 Axes>"
            ],
            "image/png": "[encoded data removed]"
          },
          "metadata": {}
        }
      ]
    },
    {
      "cell_type": "code",
      "source": [
        "print(batting_first['winner'].value_counts()[0:1095])"
      ],
      "metadata": {
        "colab": {
          "base_uri": "https://localhost:8080/"
        },
        "id": "NxcIjcifGr-9",
        "outputId": "27cf35ed-1d93-4b22-8de8-53446459cf7d"
      },
      "execution_count": null,
      "outputs": [
        {
          "output_type": "stream",
          "name": "stdout",
          "text": [
            "winner\n",
            "Chennai Super Kings            71\n",
            "Mumbai Indians                 71\n",
            "Kolkata Knight Riders          54\n",
            "Royal Challengers Bangalore    53\n",
            "Sunrisers Hyderabad            44\n",
            "Rajasthan Royals               43\n",
            "Kings XI Punjab                40\n",
            "Delhi Daredevils               25\n",
            "Delhi Capitals                 21\n",
            "Deccan Chargers                18\n",
            "Lucknow Super Giants           16\n",
            "Punjab Kings                   11\n",
            "Gujarat Titans                 11\n",
            "Pune Warriors                   6\n",
            "Rising Pune Supergiant          5\n",
            "Royal Challengers Bengaluru     4\n",
            "Kochi Tuskers Kerala            2\n",
            "Rising Pune Supergiants         2\n",
            "Gujarat Lions                   1\n",
            "Name: count, dtype: int64\n"
          ]
        }
      ]
    },
    {
      "cell_type": "code",
      "source": [
        "plt.figure(figsize=(8,5))\n",
        "plt.bar(list(batting_first['winner'].value_counts()[0:3].keys()),list(batting_first['winner'].value_counts()[0:3]))\n",
        "plt.show()"
      ],
      "metadata": {
        "colab": {
          "base_uri": "https://localhost:8080/",
          "height": 445
        },
        "id": "G_G7I68GHec6",
        "outputId": "052cc5a9-5b38-475b-aa88-398be3bdf707"
      },
      "execution_count": null,
      "outputs": [
        {
          "output_type": "display_data",
          "data": {
            "text/plain": [
              "<Figure size 800x500 with 1 Axes>"
            ],
            "image/png": "[encoded data removed]"
          },
          "metadata": {}
        }
      ]
    },
    {
      "cell_type": "code",
      "source": [
        "print(ipl['winner'].value_counts())"
      ],
      "metadata": {
        "colab": {
          "base_uri": "https://localhost:8080/"
        },
        "id": "rp9IB_8cI9f5",
        "outputId": "c5d0f442-d929-4ff5-8df8-e4e7614ba314"
      },
      "execution_count": null,
      "outputs": [
        {
          "output_type": "stream",
          "name": "stdout",
          "text": [
            "winner\n",
            "Mumbai Indians                 144\n",
            "Chennai Super Kings            138\n",
            "Kolkata Knight Riders          131\n",
            "Royal Challengers Bangalore    116\n",
            "Rajasthan Royals               112\n",
            "Sunrisers Hyderabad             88\n",
            "Kings XI Punjab                 88\n",
            "Delhi Daredevils                67\n",
            "Delhi Capitals                  48\n",
            "Deccan Chargers                 29\n",
            "Gujarat Titans                  28\n",
            "Punjab Kings                    24\n",
            "Lucknow Super Giants            24\n",
            "Gujarat Lions                   13\n",
            "Pune Warriors                   12\n",
            "Rising Pune Supergiant          10\n",
            "Royal Challengers Bengaluru      7\n",
            "Kochi Tuskers Kerala             6\n",
            "Rising Pune Supergiants          5\n",
            "Name: count, dtype: int64\n"
          ]
        }
      ]
    },
    {
      "cell_type": "code",
      "source": [
        "plt.figure(figsize=(7,7))\n",
        "plt.pie(list(ipl['winner'].value_counts()[0:8]),labels=list(ipl['winner'].value_counts()[0:8].keys()),autopct='%1.1f%%')\n",
        "plt.show()"
      ],
      "metadata": {
        "colab": {
          "base_uri": "https://localhost:8080/",
          "height": 576
        },
        "id": "1Aaz7hBmJb9a",
        "outputId": "66bc42ac-5c7b-46a3-de35-83392319fb1d"
      },
      "execution_count": null,
      "outputs": [
        {
          "output_type": "display_data",
          "data": {
            "text/plain": [
              "<Figure size 700x700 with 1 Axes>"
            ],
            "image/png": "[encoded data removed]"
          },
          "metadata": {}
        }
      ]
    },
    {
      "cell_type": "code",
      "source": [
        "batting_second=ipl[ipl['result']==\"wickets\"]\n",
        "print(batting_second.head())"
      ],
      "metadata": {
        "colab": {
          "base_uri": "https://localhost:8080/"
        },
        "id": "aHeqPJ5vKptP",
        "outputId": "14e9f7e6-1d2b-480d-a032-d8e06a325778"
      },
      "execution_count": null,
      "outputs": [
        {
          "output_type": "stream",
          "name": "stdout",
          "text": [
            "       id   season       city        date match_type player_of_match  \\\n",
            "2  335984  2007/08      Delhi  2008-04-19     League     MF Maharoof   \n",
            "3  335985  2007/08     Mumbai  2008-04-20     League      MV Boucher   \n",
            "4  335986  2007/08    Kolkata  2008-04-20     League       DJ Hussey   \n",
            "5  335987  2007/08     Jaipur  2008-04-21     League       SR Watson   \n",
            "6  335988  2007/08  Hyderabad  2008-04-22     League        V Sehwag   \n",
            "\n",
            "                                       venue                  team1  \\\n",
            "2                           Feroz Shah Kotla       Delhi Daredevils   \n",
            "3                           Wankhede Stadium         Mumbai Indians   \n",
            "4                               Eden Gardens  Kolkata Knight Riders   \n",
            "5                     Sawai Mansingh Stadium       Rajasthan Royals   \n",
            "6  Rajiv Gandhi International Stadium, Uppal        Deccan Chargers   \n",
            "\n",
            "                         team2       toss_winner toss_decision  \\\n",
            "2             Rajasthan Royals  Rajasthan Royals           bat   \n",
            "3  Royal Challengers Bangalore    Mumbai Indians           bat   \n",
            "4              Deccan Chargers   Deccan Chargers           bat   \n",
            "5              Kings XI Punjab   Kings XI Punjab           bat   \n",
            "6             Delhi Daredevils   Deccan Chargers           bat   \n",
            "\n",
            "                        winner   result  result_margin  target_runs  \\\n",
            "2             Delhi Daredevils  wickets            9.0        130.0   \n",
            "3  Royal Challengers Bangalore  wickets            5.0        166.0   \n",
            "4        Kolkata Knight Riders  wickets            5.0        111.0   \n",
            "5             Rajasthan Royals  wickets            6.0        167.0   \n",
            "6             Delhi Daredevils  wickets            9.0        143.0   \n",
            "\n",
            "   target_overs super_over method    umpire1         umpire2  \n",
            "2          20.0          N    NaN  Aleem Dar  GA Pratapkumar  \n",
            "3          20.0          N    NaN   SJ Davis       DJ Harper  \n",
            "4          20.0          N    NaN  BF Bowden     K Hariharan  \n",
            "5          20.0          N    NaN  Aleem Dar       RB Tiffin  \n",
            "6          20.0          N    NaN  IL Howell       AM Saheba  \n"
          ]
        }
      ]
    },
    {
      "cell_type": "code",
      "source": [
        "print(batting_second['winner'].value_counts()[0:1095])"
      ],
      "metadata": {
        "colab": {
          "base_uri": "https://localhost:8080/"
        },
        "id": "hvEGODkPLbst",
        "outputId": "b0dad876-e564-4c3a-a6f4-544960b7a6d0"
      },
      "execution_count": null,
      "outputs": [
        {
          "output_type": "stream",
          "name": "stdout",
          "text": [
            "winner\n",
            "Kolkata Knight Riders          76\n",
            "Mumbai Indians                 71\n",
            "Rajasthan Royals               67\n",
            "Chennai Super Kings            67\n",
            "Royal Challengers Bangalore    61\n",
            "Kings XI Punjab                45\n",
            "Sunrisers Hyderabad            43\n",
            "Delhi Daredevils               42\n",
            "Delhi Capitals                 24\n",
            "Gujarat Titans                 17\n",
            "Punjab Kings                   13\n",
            "Gujarat Lions                  12\n",
            "Deccan Chargers                11\n",
            "Lucknow Super Giants            8\n",
            "Pune Warriors                   6\n",
            "Rising Pune Supergiant          5\n",
            "Kochi Tuskers Kerala            4\n",
            "Rising Pune Supergiants         3\n",
            "Royal Challengers Bengaluru     3\n",
            "Name: count, dtype: int64\n"
          ]
        }
      ]
    },
    {
      "cell_type": "code",
      "source": [
        "plt.figure(figsize=(15,7))\n",
        "plt.bar(list(batting_second['winner'].value_counts()[0:6].keys()),list(batting_second['winner'].value_counts()[0:6]))\n",
        "plt.show()"
      ],
      "metadata": {
        "colab": {
          "base_uri": "https://localhost:8080/",
          "height": 429
        },
        "id": "L9e4ObfdL0Ve",
        "outputId": "be4848e4-c7ee-4cdf-87a6-ef57a2408c19"
      },
      "execution_count": null,
      "outputs": [
        {
          "output_type": "display_data",
          "data": {
            "text/plain": [
              "<Figure size 1500x700 with 1 Axes>"
            ],
            "image/png": "[encoded data removed]"
          },
          "metadata": {}
        }
      ]
    },
    {
      "cell_type": "code",
      "source": [
        "import numpy as np\n",
        "print(np.sum(ipl['winner']==ipl['toss_winner']))\n",
        "#counting how many times a team won toss and the match"
      ],
      "metadata": {
        "colab": {
          "base_uri": "https://localhost:8080/"
        },
        "id": "2S1r2LYeO9Vj",
        "outputId": "2fd0d324-f2bc-4fad-9833-8e8b84ac591b"
      },
      "execution_count": null,
      "outputs": [
        {
          "output_type": "stream",
          "name": "stdout",
          "text": [
            "554\n"
          ]
        }
      ]
    },
    {
      "cell_type": "code",
      "source": [
        "print(554/1095)\n",
        "# this is percentage of times a team won a toss and as well as game"
      ],
      "metadata": {
        "colab": {
          "base_uri": "https://localhost:8080/"
        },
        "id": "ag_2p49NPQOw",
        "outputId": "6a4aaac0-3461-4771-e75f-ecf674e0c9ef"
      },
      "execution_count": null,
      "outputs": [
        {
          "output_type": "stream",
          "name": "stdout",
          "text": [
            "0.5059360730593607\n"
          ]
        }
      ]
    },
    {
      "cell_type": "code",
      "source": [
        "deliveries=pd.read_csv('/content/deliveries.csv')\n",
        "print(deliveries.head(10))"
      ],
      "metadata": {
        "colab": {
          "base_uri": "https://localhost:8080/"
        },
        "id": "rf0BWD1iQCZF",
        "outputId": "390f1250-9a05-4e3b-ce54-735d12f813aa"
      },
      "execution_count": null,
      "outputs": [
        {
          "output_type": "stream",
          "name": "stdout",
          "text": [
            "   match_id  inning           batting_team                 bowling_team  over  \\\n",
            "0    335982       1  Kolkata Knight Riders  Royal Challengers Bangalore     0   \n",
            "1    335982       1  Kolkata Knight Riders  Royal Challengers Bangalore     0   \n",
            "2    335982       1  Kolkata Knight Riders  Royal Challengers Bangalore     0   \n",
            "3    335982       1  Kolkata Knight Riders  Royal Challengers Bangalore     0   \n",
            "4    335982       1  Kolkata Knight Riders  Royal Challengers Bangalore     0   \n",
            "5    335982       1  Kolkata Knight Riders  Royal Challengers Bangalore     0   \n",
            "6    335982       1  Kolkata Knight Riders  Royal Challengers Bangalore     0   \n",
            "7    335982       1  Kolkata Knight Riders  Royal Challengers Bangalore     1   \n",
            "8    335982       1  Kolkata Knight Riders  Royal Challengers Bangalore     1   \n",
            "9    335982       1  Kolkata Knight Riders  Royal Challengers Bangalore     1   \n",
            "\n",
            "   ball       batter   bowler  non_striker  batsman_runs  extra_runs  \\\n",
            "0     1   SC Ganguly  P Kumar  BB McCullum             0           1   \n",
            "1     2  BB McCullum  P Kumar   SC Ganguly             0           0   \n",
            "2     3  BB McCullum  P Kumar   SC Ganguly             0           1   \n",
            "3     4  BB McCullum  P Kumar   SC Ganguly             0           0   \n",
            "4     5  BB McCullum  P Kumar   SC Ganguly             0           0   \n",
            "5     6  BB McCullum  P Kumar   SC Ganguly             0           0   \n",
            "6     7  BB McCullum  P Kumar   SC Ganguly             0           1   \n",
            "7     1  BB McCullum   Z Khan   SC Ganguly             0           0   \n",
            "8     2  BB McCullum   Z Khan   SC Ganguly             4           0   \n",
            "9     3  BB McCullum   Z Khan   SC Ganguly             4           0   \n",
            "\n",
            "   total_runs extras_type  is_wicket player_dismissed dismissal_kind fielder  \n",
            "0           1     legbyes          0              NaN            NaN     NaN  \n",
            "1           0         NaN          0              NaN            NaN     NaN  \n",
            "2           1       wides          0              NaN            NaN     NaN  \n",
            "3           0         NaN          0              NaN            NaN     NaN  \n",
            "4           0         NaN          0              NaN            NaN     NaN  \n",
            "5           0         NaN          0              NaN            NaN     NaN  \n",
            "6           1     legbyes          0              NaN            NaN     NaN  \n",
            "7           0         NaN          0              NaN            NaN     NaN  \n",
            "8           4         NaN          0              NaN            NaN     NaN  \n",
            "9           4         NaN          0              NaN            NaN     NaN  \n"
          ]
        }
      ]
    },
    {
      "cell_type": "code",
      "source": [
        "print(deliveries['match_id'].unique())"
      ],
      "metadata": {
        "colab": {
          "base_uri": "https://localhost:8080/"
        },
        "id": "dpggUDRdSOQG",
        "outputId": "3ae9ad8f-9273-4152-e5b9-664bb6f79749"
      },
      "execution_count": null,
      "outputs": [
        {
          "output_type": "stream",
          "name": "stdout",
          "text": [
            "[ 335982  335983  335984 ... 1426310 1426311 1426312]\n"
          ]
        }
      ]
    },
    {
      "cell_type": "code",
      "source": [
        "match1=deliveries[deliveries['match_id']== 335982]\n",
        "print(match1)"
      ],
      "metadata": {
        "colab": {
          "base_uri": "https://localhost:8080/"
        },
        "id": "B9fmcDV0SkLT",
        "outputId": "c615f2f2-cecf-4c17-8d52-83a06a325c33"
      },
      "execution_count": null,
      "outputs": [
        {
          "output_type": "stream",
          "name": "stdout",
          "text": [
            "     match_id  inning                 batting_team  \\\n",
            "0      335982       1        Kolkata Knight Riders   \n",
            "1      335982       1        Kolkata Knight Riders   \n",
            "2      335982       1        Kolkata Knight Riders   \n",
            "3      335982       1        Kolkata Knight Riders   \n",
            "4      335982       1        Kolkata Knight Riders   \n",
            "..        ...     ...                          ...   \n",
            "220    335982       2  Royal Challengers Bangalore   \n",
            "221    335982       2  Royal Challengers Bangalore   \n",
            "222    335982       2  Royal Challengers Bangalore   \n",
            "223    335982       2  Royal Challengers Bangalore   \n",
            "224    335982       2  Royal Challengers Bangalore   \n",
            "\n",
            "                    bowling_team  over  ball       batter     bowler  \\\n",
            "0    Royal Challengers Bangalore     0     1   SC Ganguly    P Kumar   \n",
            "1    Royal Challengers Bangalore     0     2  BB McCullum    P Kumar   \n",
            "2    Royal Challengers Bangalore     0     3  BB McCullum    P Kumar   \n",
            "3    Royal Challengers Bangalore     0     4  BB McCullum    P Kumar   \n",
            "4    Royal Challengers Bangalore     0     5  BB McCullum    P Kumar   \n",
            "..                           ...   ...   ...          ...        ...   \n",
            "220        Kolkata Knight Riders    14     5      P Kumar   I Sharma   \n",
            "221        Kolkata Knight Riders    14     6     SB Joshi   I Sharma   \n",
            "222        Kolkata Knight Riders    14     7      P Kumar   I Sharma   \n",
            "223        Kolkata Knight Riders    15     1     SB Joshi  LR Shukla   \n",
            "224        Kolkata Knight Riders    15     2     SB Joshi  LR Shukla   \n",
            "\n",
            "     non_striker  batsman_runs  extra_runs  total_runs extras_type  is_wicket  \\\n",
            "0    BB McCullum             0           1           1     legbyes          0   \n",
            "1     SC Ganguly             0           0           0         NaN          0   \n",
            "2     SC Ganguly             0           1           1       wides          0   \n",
            "3     SC Ganguly             0           0           0         NaN          0   \n",
            "4     SC Ganguly             0           0           0         NaN          0   \n",
            "..           ...           ...         ...         ...         ...        ...   \n",
            "220     SB Joshi             0           1           1     legbyes          0   \n",
            "221      P Kumar             1           0           1         NaN          0   \n",
            "222     SB Joshi             0           0           0         NaN          0   \n",
            "223      P Kumar             0           1           1       wides          0   \n",
            "224      P Kumar             0           0           0         NaN          1   \n",
            "\n",
            "    player_dismissed dismissal_kind      fielder  \n",
            "0                NaN            NaN          NaN  \n",
            "1                NaN            NaN          NaN  \n",
            "2                NaN            NaN          NaN  \n",
            "3                NaN            NaN          NaN  \n",
            "4                NaN            NaN          NaN  \n",
            "..               ...            ...          ...  \n",
            "220              NaN            NaN          NaN  \n",
            "221              NaN            NaN          NaN  \n",
            "222              NaN            NaN          NaN  \n",
            "223              NaN            NaN          NaN  \n",
            "224         SB Joshi         caught  BB McCullum  \n",
            "\n",
            "[225 rows x 17 columns]\n"
          ]
        }
      ]
    },
    {
      "cell_type": "code",
      "source": [
        "batter= match1['batter'].value_counts()\n",
        "print(batter)"
      ],
      "metadata": {
        "colab": {
          "base_uri": "https://localhost:8080/"
        },
        "id": "tZs8ockiTUnJ",
        "outputId": "8fe12b6f-2d02-48c7-da05-e5dc0ca8ff1e"
      },
      "execution_count": null,
      "outputs": [
        {
          "output_type": "stream",
          "name": "stdout",
          "text": [
            "batter\n",
            "BB McCullum        77\n",
            "RT Ponting         20\n",
            "W Jaffer           18\n",
            "P Kumar            17\n",
            "DJ Hussey          12\n",
            "SC Ganguly         12\n",
            "AA Noffke          12\n",
            "MV Boucher         11\n",
            "CL White           10\n",
            "Z Khan              8\n",
            "SB Joshi            8\n",
            "JH Kallis           7\n",
            "V Kohli             5\n",
            "R Dravid            3\n",
            "Mohammad Hafeez     3\n",
            "B Akhil             2\n",
            "Name: count, dtype: int64\n"
          ]
        }
      ]
    },
    {
      "cell_type": "code",
      "source": [
        "print(match1['batsman_runs'].value_counts())"
      ],
      "metadata": {
        "colab": {
          "base_uri": "https://localhost:8080/"
        },
        "id": "WM3gQYnFTwQW",
        "outputId": "4ce96a85-67ee-4755-ebcf-550547743219"
      },
      "execution_count": null,
      "outputs": [
        {
          "output_type": "stream",
          "name": "stdout",
          "text": [
            "batsman_runs\n",
            "0    110\n",
            "1     66\n",
            "4     18\n",
            "6     17\n",
            "2     14\n",
            "Name: count, dtype: int64\n"
          ]
        }
      ]
    },
    {
      "cell_type": "code",
      "source": [
        "print(match1['dismissal_kind'].value_counts())"
      ],
      "metadata": {
        "colab": {
          "base_uri": "https://localhost:8080/"
        },
        "id": "WhlC94X5UOJQ",
        "outputId": "b703f976-af64-4b53-e39b-1359916992fd"
      },
      "execution_count": null,
      "outputs": [
        {
          "output_type": "stream",
          "name": "stdout",
          "text": [
            "dismissal_kind\n",
            "caught     9\n",
            "bowled     3\n",
            "run out    1\n",
            "Name: count, dtype: int64\n"
          ]
        }
      ]
    },
    {
      "cell_type": "code",
      "source": [
        "#only for rcb\n",
        "secinn=match1[match1['inning']==2]\n",
        "print(secinn.head())"
      ],
      "metadata": {
        "colab": {
          "base_uri": "https://localhost:8080/"
        },
        "id": "bjeOiOLKUj20",
        "outputId": "028689cc-9b60-460a-f938-2f1bd8dd74f8"
      },
      "execution_count": null,
      "outputs": [
        {
          "output_type": "stream",
          "name": "stdout",
          "text": [
            "     match_id  inning                 batting_team           bowling_team  \\\n",
            "124    335982       2  Royal Challengers Bangalore  Kolkata Knight Riders   \n",
            "125    335982       2  Royal Challengers Bangalore  Kolkata Knight Riders   \n",
            "126    335982       2  Royal Challengers Bangalore  Kolkata Knight Riders   \n",
            "127    335982       2  Royal Challengers Bangalore  Kolkata Knight Riders   \n",
            "128    335982       2  Royal Challengers Bangalore  Kolkata Knight Riders   \n",
            "\n",
            "     over  ball    batter    bowler non_striker  batsman_runs  extra_runs  \\\n",
            "124     0     1  R Dravid  AB Dinda    W Jaffer             1           0   \n",
            "125     0     2  W Jaffer  AB Dinda    R Dravid             0           1   \n",
            "126     0     3  W Jaffer  AB Dinda    R Dravid             0           0   \n",
            "127     0     4  W Jaffer  AB Dinda    R Dravid             1           0   \n",
            "128     0     5  R Dravid  AB Dinda    W Jaffer             1           0   \n",
            "\n",
            "     total_runs extras_type  is_wicket player_dismissed dismissal_kind fielder  \n",
            "124           1         NaN          0              NaN            NaN     NaN  \n",
            "125           1       wides          0              NaN            NaN     NaN  \n",
            "126           0         NaN          0              NaN            NaN     NaN  \n",
            "127           1         NaN          0              NaN            NaN     NaN  \n",
            "128           1         NaN          0              NaN            NaN     NaN  \n"
          ]
        }
      ]
    },
    {
      "cell_type": "code",
      "source": [
        "rcb_batter=secinn['batter'].unique()\n",
        "print(rcb_batter)"
      ],
      "metadata": {
        "colab": {
          "base_uri": "https://localhost:8080/"
        },
        "id": "GVCrLBouVIAF",
        "outputId": "62b8f91d-7c0a-4e66-c212-9866fb6ebaba"
      },
      "execution_count": null,
      "outputs": [
        {
          "output_type": "stream",
          "name": "stdout",
          "text": [
            "['R Dravid' 'W Jaffer' 'V Kohli' 'JH Kallis' 'CL White' 'MV Boucher'\n",
            " 'B Akhil' 'AA Noffke' 'P Kumar' 'Z Khan' 'SB Joshi']\n"
          ]
        }
      ]
    },
    {
      "cell_type": "code",
      "source": [
        "print(secinn['player_dismissed'].value_counts())"
      ],
      "metadata": {
        "colab": {
          "base_uri": "https://localhost:8080/"
        },
        "id": "W_ZRE22lVZ5g",
        "outputId": "5b27528e-f16c-452e-ab8f-42a4f9291660"
      },
      "execution_count": null,
      "outputs": [
        {
          "output_type": "stream",
          "name": "stdout",
          "text": [
            "player_dismissed\n",
            "R Dravid      1\n",
            "V Kohli       1\n",
            "JH Kallis     1\n",
            "W Jaffer      1\n",
            "MV Boucher    1\n",
            "B Akhil       1\n",
            "CL White      1\n",
            "AA Noffke     1\n",
            "Z Khan        1\n",
            "SB Joshi      1\n",
            "Name: count, dtype: int64\n"
          ]
        }
      ]
    },
    {
      "cell_type": "code",
      "source": [
        "print(secinn['dismissal_kind'].value_counts())"
      ],
      "metadata": {
        "colab": {
          "base_uri": "https://localhost:8080/"
        },
        "id": "ALFDffB_WD6M",
        "outputId": "cd75a60a-4c07-47da-9d5c-4c06f5ed8f3e"
      },
      "execution_count": null,
      "outputs": [
        {
          "output_type": "stream",
          "name": "stdout",
          "text": [
            "dismissal_kind\n",
            "caught     6\n",
            "bowled     3\n",
            "run out    1\n",
            "Name: count, dtype: int64\n"
          ]
        }
      ]
    }
  ]
}